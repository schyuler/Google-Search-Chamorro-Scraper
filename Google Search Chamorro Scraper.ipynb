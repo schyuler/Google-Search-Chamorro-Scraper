{
 "cells": [
  {
   "cell_type": "markdown",
   "id": "c1ba6341",
   "metadata": {},
   "source": [
    "# Google Search Chamorro Scraper"
   ]
  },
  {
   "cell_type": "markdown",
   "id": "88e38058",
   "metadata": {},
   "source": [
    "**About:** This project is meant for educational purposes, to scrape and export articles written in the Chamorro language from the Saipan Tribune news website, where the search for those articles is narrowed down via a Google search by searching for a common Chamorro stopword in the text body. We will be using the Google Custom Search JSON API to find and scrape content. The text results will be processed in two ways: \n",
    "\n",
    "1. The full text exported into an HTML file for conversion to other reader-friendly formats, such as PDF, .DOCX, or .EPUB\n",
    "2. A unique word list will be exported to .CSV for additional analysis and integration into other learning tools"
   ]
  },
  {
   "cell_type": "markdown",
   "id": "36c2465e",
   "metadata": {},
   "source": [
    "**Name:** Schyuler Lujan <br>\n",
    "**Date Started:** 23-April-2025 <br>\n",
    "**Date Completed:** In Progress <br>"
   ]
  },
  {
   "cell_type": "markdown",
   "id": "c68182b3",
   "metadata": {},
   "source": [
    "## Import Libraries"
   ]
  },
  {
   "cell_type": "code",
   "execution_count": 28,
   "id": "b83bcf06",
   "metadata": {},
   "outputs": [],
   "source": [
    "# Import relevant libraries\n",
    "import requests\n",
    "import json\n",
    "from bs4 import BeautifulSoup"
   ]
  },
  {
   "cell_type": "markdown",
   "id": "00c0f959",
   "metadata": {},
   "source": [
    "## Call The API"
   ]
  },
  {
   "cell_type": "markdown",
   "id": "7658c465",
   "metadata": {},
   "source": [
    "### Set the API Key, CSE ID, and Query"
   ]
  },
  {
   "cell_type": "code",
   "execution_count": 29,
   "id": "4a24697a",
   "metadata": {},
   "outputs": [],
   "source": [
    "# Set your API Key and Custom Search Engine ID\n",
    "API_KEY = # API Key goes here\n",
    "CSE_ID = #custom search engine ID goes here"
   ]
  },
  {
   "cell_type": "code",
   "execution_count": 54,
   "id": "16056188",
   "metadata": {},
   "outputs": [],
   "source": [
    "# Set search query to a common Chamorro stopword on the target website\n",
    "QUERY = 'allintext: na site:https://www.saipantribune.com/'"
   ]
  },
  {
   "cell_type": "markdown",
   "id": "a584eafe",
   "metadata": {},
   "source": [
    "### Calculate the Values for the `start` Paramter"
   ]
  },
  {
   "cell_type": "markdown",
   "id": "3ecca501",
   "metadata": {},
   "source": [
    "When we call the API, we need to specify which results we want it to return to us by setting the `start` parameter to the appropriate value. When setting the `start` parameter to the appropriate value, we will keep the following in mind:\n",
    "\n",
    "* A Google search returns 10 results per page\n",
    "* Setting the `start` parameter to 1 returns the first page of results\n",
    "* To get the results on subsequent pages, we must increase the start parameter by 10 each time\n",
    "\n",
    "To get all the results of our search, we will do the following:\n",
    "\n",
    "1. Return the total number of pages that our search returns and store that value in the variable `total_pages`\n",
    "2. Calculate the start values based on `total_pages`, and store those values in a list. We will calculate a range to do this: `list(range(1,total_pages,10))`\n",
    "\n",
    "**Free Tier Limits:** We are also using the *free tier* of the Custom Search API, which allows up to 100 queries per day. To be mindful of this limit, we will also split our start ranges into lists that return a maximum of 100 results each, and run them on separate days."
   ]
  },
  {
   "cell_type": "code",
   "execution_count": 61,
   "id": "56353221",
   "metadata": {},
   "outputs": [],
   "source": [
    "### FIXME: Get total page results and calculate the start values ###"
   ]
  },
  {
   "cell_type": "markdown",
   "id": "c93f4ace",
   "metadata": {},
   "source": [
    "### Make the Request and Return the Search Results"
   ]
  },
  {
   "cell_type": "code",
   "execution_count": 51,
   "id": "48b39ae9",
   "metadata": {},
   "outputs": [],
   "source": [
    "def google_search(query, api_key, cse_id, start=1):\n",
    "    \"\"\"\n",
    "    Sends the search query to Google by calling the Google Custom Search JSON API.\n",
    "    Returns the results in a dictionary (JSON format).\n",
    "    \"\"\"\n",
    "    # Set the endpoint for Google's search API\n",
    "    url = 'https://www.googleapis.com/customsearch/v1'\n",
    "    \n",
    "    # Set the query parameters to send to the API\n",
    "    params = {\n",
    "        'key': api_key,\n",
    "        'cx': cse_id,\n",
    "        'q': query,\n",
    "        'start': start\n",
    "    }\n",
    "    \n",
    "    # Make the HTTP GET request to Google\n",
    "    response = requests.get(url, params=params)\n",
    "    \n",
    "    return response.json()"
   ]
  },
  {
   "cell_type": "code",
   "execution_count": 52,
   "id": "d9e1cc6d",
   "metadata": {},
   "outputs": [],
   "source": [
    "# Get the search results\n",
    "search_results = google_search(QUERY, API_KEY, CSE_ID)"
   ]
  },
  {
   "cell_type": "code",
   "execution_count": 53,
   "id": "9e371896",
   "metadata": {},
   "outputs": [
    {
     "name": "stdout",
     "output_type": "stream",
     "text": [
      "https://www.saipantribune.com/index.php/taiguini-books-launch-malingu-na-patgon/\n",
      "https://www.saipantribune.com/index.php/tag/fiet-na-gacho/\n",
      "https://www.saipantribune.com/news/local/gi-nuebo-na-sakan/article_a0636a6f-d11e-542b-8111-c287f7509be0.html\n",
      "https://www.saipantribune.com/index.php/mesklau-na-asuntu/\n",
      "https://www.saipantribune.com/index.php/pipinu-na-sagu-3/\n",
      "https://www.saipantribune.com/index.php/93a49224-1dfb-11e4-aedf-250bc8c9958e/\n",
      "https://www.saipantribune.com/index.php/40-anos-na-libetta/\n",
      "https://www.saipantribune.com/index.php/grasiosu-na-konbetsasion/\n",
      "https://www.saipantribune.com/index.php/fitme-na-pisun-tinituhun/\n",
      "https://www.saipantribune.com/index.php/bd8fe9b6-1dfb-11e4-aedf-250bc8c9958e/\n"
     ]
    }
   ],
   "source": [
    "# View search results\n",
    "for item in search_results.get(\"items\", []):\n",
    "    print(item[\"link\"])"
   ]
  },
  {
   "cell_type": "code",
   "execution_count": 60,
   "id": "42f9c14b",
   "metadata": {},
   "outputs": [],
   "source": [
    "### DELETE ME: TEST ###\n",
    "#print(json.dumps(search_results, indent=2)) # To see all search results"
   ]
  },
  {
   "cell_type": "markdown",
   "id": "9f60c65f",
   "metadata": {},
   "source": [
    "## Scrape Text Content From URLs"
   ]
  },
  {
   "cell_type": "code",
   "execution_count": 62,
   "id": "9df02317",
   "metadata": {},
   "outputs": [],
   "source": [
    "### FIXME: Iterate through scraped URLs and scrape the written content ###"
   ]
  },
  {
   "cell_type": "markdown",
   "id": "2d1b5a7f",
   "metadata": {},
   "source": [
    "## Export Full Text To HTML"
   ]
  },
  {
   "cell_type": "code",
   "execution_count": 63,
   "id": "efef3f3e",
   "metadata": {},
   "outputs": [],
   "source": [
    "### FIXME: Export the text to a formatted HTML file ###"
   ]
  },
  {
   "cell_type": "markdown",
   "id": "5bc604f7",
   "metadata": {},
   "source": [
    "## Create and Export a Unique Word List"
   ]
  },
  {
   "cell_type": "code",
   "execution_count": 65,
   "id": "8e13c4d5",
   "metadata": {},
   "outputs": [],
   "source": [
    "### FIXME: Clean text, split text into words, remove duplicates and export to CSV ###"
   ]
  },
  {
   "cell_type": "markdown",
   "id": "61d2e21d",
   "metadata": {},
   "source": [
    "## Test Code"
   ]
  },
  {
   "cell_type": "code",
   "execution_count": 59,
   "id": "ea9f2bd1",
   "metadata": {},
   "outputs": [],
   "source": [
    "### TEST CODE: Iterating through multiple stopwords when querying the website (not as feasible on free tier) ###\n",
    "# # Set the address for the website that will be queried\n",
    "# site = 'site:https://www.saipantribune.com/'\n",
    "\n",
    "# # List common Chamorro stopwords to be used in the query\n",
    "# common_stopwords = ['na', 'yan', 'ya', 'nu', 'ni', 'gi', 'ti']\n",
    "\n",
    "# # Create a list of the queries\n",
    "# QUERY = [word + \" \" + site for word in common_stopwords]"
   ]
  }
 ],
 "metadata": {
  "kernelspec": {
   "display_name": "Python 3 (ipykernel)",
   "language": "python",
   "name": "python3"
  },
  "language_info": {
   "codemirror_mode": {
    "name": "ipython",
    "version": 3
   },
   "file_extension": ".py",
   "mimetype": "text/x-python",
   "name": "python",
   "nbconvert_exporter": "python",
   "pygments_lexer": "ipython3",
   "version": "3.11.7"
  }
 },
 "nbformat": 4,
 "nbformat_minor": 5
}
